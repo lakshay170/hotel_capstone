{
  "cells": [
    {
      "cell_type": "markdown",
      "metadata": {
        "id": "vncDsAP0Gaoa"
      },
      "source": [
        "# **Project Name**    - Hotel Bookings\n",
        "\n"
      ]
    },
    {
      "cell_type": "markdown",
      "metadata": {
        "id": "beRrZCGUAJYm"
      },
      "source": [
        "##### **Project Type**    - EDA\n",
        "##### **Contribution**    - Individual\n",
        "##### **Presented by -** Lakshay Nandwani\n"
      ]
    },
    {
      "cell_type": "markdown",
      "metadata": {
        "id": "FJNUwmbgGyua"
      },
      "source": [
        "# **Project Summary -**"
      ]
    },
    {
      "cell_type": "markdown",
      "metadata": {
        "id": "F6v_1wHtG2nS"
      },
      "source": [
        "1. **Business Problem**--Augment the hospitality business by\n",
        "\n",
        "  1. examining the high cancellation rate,\n",
        "  2. exploring new business opportunities,\n",
        "  3. filling existing pitfalls\n",
        "\n",
        "\n",
        "2. **About Dataset**-Given  a hotel transactions dataset in between time period of July 2015 to Aug 2017 comprising 1.2 lakh+ entries & 32 columns\n",
        "\n",
        "3. **Handling NaNs** -\n",
        "  1. Duplicate values -- 31K + rows were duplicate , all were dropped.\n",
        "  2. Mainly 3 columns company ,agent, country had nan values. Company and agent columns were filled by NA as the booking might have been done by individuals themselves. Country columns was filled by mode.\n",
        "\n",
        "4. **Outlier treatment** -- Following columns were suspected to have outliers\n",
        "\n",
        "posssible_outliers =['lead_time','stays_in_weekend_nights','stays_in_week_nights','days_in_waiting_list','adr','adults','children','babies']\n",
        "\n",
        "\n",
        "  1. **Lead time outlier treatment** --violin plot shows distribution of lead time is right skewed. But extreme points were not dropped, as in Europe people tend to plan their vacation even 6 months in advance.\n",
        "\n",
        "  2. **ADR outliers treatment** -- one entry of ADR 5000 and -6 was dropped.1500+ rows had ADR 0 , it is assumed that it was a promotional discount.\n",
        "\n",
        "\n",
        "\n",
        "5. **Data Wrangling** --\n",
        "\n",
        "  1. Data of cancellations & non cancellations is segregated & then analysed in some scenarios.\n",
        "  2. Converted the dtype of arrival_date to datetime\n",
        "  2. Classified each day to weekend or weekday\n",
        "  3. Calculated total revenue as ADR * num_of_days_stayed\n",
        "  4. Categorised lead_time into bins--0-2 days,3-15 days,.....365+days\n",
        "\n",
        "\n",
        "6. **Tops & Bottoms**--of each possible column like --\n",
        "  1. top market segment\n",
        "  2. top distribution channel\n",
        "  3. top country from which bookings are coming\n",
        "  4. top room type booked etc\n",
        "  5. top meal ordered\n",
        "\n",
        "  Suitable recoomendations were given along with it.\n",
        "\n",
        "7. **Business Outlook** -- Month on month Yearly Trend of revenue and occupancy shows that hospitality business records a positive growth. But the rate of growth decreases in successive years.\n",
        "\n",
        "8. **Analysis** --\n",
        "\n",
        "  1. Bivariate and multivariate analysis of 'is_canceled' column was performed with following columns--\n",
        "\n",
        "    1. Lead time --for lead time greater than 30 days cancellation increases to 30%\n",
        "\n",
        "    2. Adr--has no effect on cancellations\n",
        "\n",
        "    3. Deposit type--Non refundable deposits have 95% cancellation rate.It has not been able to stop cancellations  .Since non refundable bookings are also less in number ,it implies people hesitate to pay advance payments.\n",
        "    4. Mkt segment --online TAs do bring business but are also cause of higher cancellations. Reduce their cancellation rate by incentivizing them by cashbacks , holiday packages etc\n",
        "\n",
        "\n",
        "  2. Focus should be to increase customer retention as repeated guests were as low as 4%\n",
        "\n",
        "  3. Occupancy and ADR of Week and weekday  rates is same\n",
        "  4. Monthly occupancy trends --Dynamic Pricing in peak buisness seasons\n",
        "  5. Heat map was also plotted, to find correlation between the columns and perform the analysis, if required.\n",
        "\n",
        "  "
      ]
    },
    {
      "cell_type": "markdown",
      "metadata": {
        "id": "w6K7xa23Elo4"
      },
      "source": [
        "# **GitHub Link -**"
      ]
    },
    {
      "cell_type": "markdown",
      "metadata": {
        "id": "h1o69JH3Eqqn"
      },
      "source": [
        "https://github.com/lakshay170/hotel_capstone.git"
      ]
    },
    {
      "cell_type": "markdown",
      "metadata": {
        "id": "yQaldy8SH6Dl"
      },
      "source": [
        "# **Problem Statement**\n"
      ]
    },
    {
      "cell_type": "markdown",
      "metadata": {
        "id": "DpeJGUA3kjGy"
      },
      "source": [
        "**Write Problem Statement Here.**\n",
        "\n",
        "Examine the causes of high cancellations & suggest suitable measures.\n",
        "\n",
        "Find the shortfalls,if any& recommend remedial measures\n",
        "\n",
        "Find the untapped business opportunities."
      ]
    },
    {
      "cell_type": "markdown",
      "metadata": {
        "id": "PH-0ReGfmX4f"
      },
      "source": [
        "#### **Define Your Business Objective?**"
      ]
    },
    {
      "cell_type": "markdown",
      "metadata": {
        "id": "PhDvGCAqmjP1"
      },
      "source": [
        "Augment the hospitality business\n"
      ]
    },
    {
      "cell_type": "markdown",
      "metadata": {
        "id": "mDgbUHAGgjLW"
      },
      "source": [
        "# **General Guidelines** : -  "
      ]
    },
    {
      "cell_type": "markdown",
      "metadata": {
        "id": "ZrxVaUj-hHfC"
      },
      "source": [
        "1.   Well-structured, formatted, and commented code is required.\n",
        "2.   Exception Handling, Production Grade Code & Deployment Ready Code will be a plus. Those students will be awarded some additional credits.\n",
        "     \n",
        "     The additional credits will have advantages over other students during Star Student selection.\n",
        "       \n",
        "             [ Note: - Deployment Ready Code is defined as, the whole .ipynb notebook should be executable in one go\n",
        "                       without a single error logged. ]\n",
        "\n",
        "3.   Each and every logic should have proper comments.\n",
        "4. You may add as many number of charts you want. Make Sure for each and every chart the following format should be answered.\n",
        "        \n",
        "\n",
        "```\n",
        "# Chart visualization code\n",
        "```\n",
        "            \n",
        "\n",
        "*   Why did you pick the specific chart?\n",
        "*   What is/are the insight(s) found from the chart?\n",
        "* Will the gained insights help creating a positive business impact?\n",
        "Are there any insights that lead to negative growth? Justify with specific reason.\n",
        "\n",
        "5. You have to create at least 20 logical & meaningful charts having important insights.\n",
        "\n",
        "\n",
        "[ Hints : - Do the Vizualization in  a structured way while following \"UBM\" Rule.\n",
        "\n",
        "U - Univariate Analysis,\n",
        "\n",
        "B - Bivariate Analysis (Numerical - Categorical, Numerical - Numerical, Categorical - Categorical)\n",
        "\n",
        "M - Multivariate Analysis\n",
        " ]\n",
        "\n",
        "\n",
        "\n"
      ]
    },
    {
      "cell_type": "markdown",
      "metadata": {
        "id": "O_i_v8NEhb9l"
      },
      "source": [
        "# ***Let's Begin !***"
      ]
    },
    {
      "cell_type": "markdown",
      "metadata": {
        "id": "HhfV-JJviCcP"
      },
      "source": [
        "## ***1. Know Your Data***"
      ]
    },
    {
      "cell_type": "markdown",
      "metadata": {
        "id": "Y3lxredqlCYt"
      },
      "source": [
        "### Import Libraries"
      ]
    },
    {
      "cell_type": "code",
      "execution_count": null,
      "metadata": {
        "id": "M8Vqi-pPk-HR"
      },
      "outputs": [],
      "source": [
        "# Import Libraries\n",
        "import seaborn as sns\n",
        "import pandas as pd\n",
        "import numpy as np\n",
        "import matplotlib.pyplot as plt\n",
        "\n",
        "from scipy import stats\n",
        "from datetime import datetime\n",
        "import warnings\n",
        "warnings.filterwarnings('ignore')\n"
      ]
    },
    {
      "cell_type": "markdown",
      "metadata": {
        "id": "3RnN4peoiCZX"
      },
      "source": [
        "### Dataset Loading"
      ]
    },
    {
      "cell_type": "code",
      "execution_count": null,
      "metadata": {
        "id": "4CkvbW_SlZ_R"
      },
      "outputs": [],
      "source": [
        "# Load Dataset\n",
        "hotel =pd.read_csv('Hotel Bookings.csv')\n",
        "\n"
      ]
    },
    {
      "cell_type": "markdown",
      "metadata": {
        "id": "x71ZqKXriCWQ"
      },
      "source": [
        "### Dataset First View"
      ]
    },
    {
      "cell_type": "code",
      "execution_count": null,
      "metadata": {
        "id": "LWNFOSvLl09H"
      },
      "outputs": [],
      "source": [
        "# Dataset First Look\n",
        "hotel.head()"
      ]
    },
    {
      "cell_type": "markdown",
      "metadata": {
        "id": "7hBIi_osiCS2"
      },
      "source": [
        "### Dataset Rows & Columns count"
      ]
    },
    {
      "cell_type": "code",
      "execution_count": null,
      "metadata": {
        "id": "Kllu7SJgmLij"
      },
      "outputs": [],
      "source": [
        "# Dataset Rows & Columns count\n",
        "hotel.shape"
      ]
    },
    {
      "cell_type": "code",
      "execution_count": null,
      "metadata": {
        "id": "bE7yLkTsdkdd"
      },
      "outputs": [],
      "source": [
        "hotel.iloc[0]"
      ]
    },
    {
      "cell_type": "markdown",
      "metadata": {
        "id": "JlHwYmJAmNHm"
      },
      "source": [
        "### Dataset Information"
      ]
    },
    {
      "cell_type": "code",
      "execution_count": null,
      "metadata": {
        "id": "e9hRXRi6meOf"
      },
      "outputs": [],
      "source": [
        "# Dataset Info\n",
        "hotel.info()"
      ]
    },
    {
      "cell_type": "markdown",
      "metadata": {
        "id": "35m5QtbWiB9F"
      },
      "source": [
        "#### Duplicate Values"
      ]
    },
    {
      "cell_type": "code",
      "execution_count": null,
      "metadata": {
        "id": "1sLdpKYkmox0"
      },
      "outputs": [],
      "source": [
        "# Dataset Duplicate Value Count\n",
        "hotel.duplicated().sum()"
      ]
    },
    {
      "cell_type": "code",
      "execution_count": null,
      "metadata": {
        "id": "pkVydKu0dkdf"
      },
      "outputs": [],
      "source": [
        "# Dropping duplicate columns.\n",
        "# It is highly unlikely that all column entries of the records match, implying duplicates are present.\n",
        "hotel=hotel.drop_duplicates()\n",
        "hotel.shape"
      ]
    },
    {
      "cell_type": "code",
      "execution_count": null,
      "metadata": {
        "id": "o4DOHXG5dkdf"
      },
      "outputs": [],
      "source": [
        "hotel.info()"
      ]
    },
    {
      "cell_type": "markdown",
      "metadata": {
        "id": "PoPl-ycgm1ru"
      },
      "source": [
        "### Missing Values/Null Values  has 2 parts-- explicit nan & inconsistent or missing values"
      ]
    },
    {
      "cell_type": "code",
      "execution_count": null,
      "metadata": {
        "id": "GgHWkxvamxVg"
      },
      "outputs": [],
      "source": [
        "# Null Values Count -- explicit nan are recognised as .isna by pandas\n",
        "# Inconsistent data is dealt few cells below\n",
        "\n",
        "# Creating DataFrame of percentage null values.\n",
        "null_values = pd.DataFrame({'null_values' :hotel.isna().sum(),\\\n",
        "                            'percent_null_values' : (hotel.isna().sum()) / (hotel.shape[0]) * (100)})\n",
        "\n",
        "# Masking to obtain 'pct null values'>0\n",
        "null_values[null_values['percent_null_values']>0]"
      ]
    },
    {
      "cell_type": "code",
      "execution_count": null,
      "metadata": {
        "id": "K7-frKErdkdg"
      },
      "outputs": [],
      "source": [
        "# Visualizing the missing values\n",
        "sns.heatmap(hotel.isnull(), cbar=False)\n",
        "\n",
        "# country, company ,agent has null values"
      ]
    },
    {
      "cell_type": "code",
      "execution_count": null,
      "metadata": {
        "id": "jsHw3Tvkdkdg"
      },
      "outputs": [],
      "source": [
        "# Dealing with NaN\n",
        "\n",
        "# Incase of null values in agent & company columns, they can be replaced by NA (Not Applicable) as \\\n",
        "# the respective entry may not be applicable. Ex For a 'direct customer', company code is NA or \\\n",
        "# no agent was used\n",
        "\n",
        "\n",
        "hotel['agent'].replace(np.nan,'NA',inplace=True)\n",
        "hotel['company'].replace(np.nan,'NA',inplace=True)\n"
      ]
    },
    {
      "cell_type": "code",
      "execution_count": null,
      "metadata": {
        "id": "EB7PEcg5dkdh"
      },
      "outputs": [],
      "source": [
        "# Finding value_counts() of country in desc order\n",
        "print(hotel['country'].value_counts().sort_values(ascending=False))\n",
        "mode_country=hotel['country'].mode()[0]     #to extract 'PRT' from Series\n",
        "\n",
        "\n",
        "\n",
        "# Filling nan of country col by mode ,as difference in mode of country & 2nd most popular country is very high\n",
        "# \\=PRT (27453)- GBR(10433) & only 452 values need to be filled\n",
        "hotel['country'].replace(np.nan,mode_country,inplace=True)"
      ]
    },
    {
      "cell_type": "markdown",
      "metadata": {
        "id": "ZuydBtrwWSB2"
      },
      "source": [
        "###### Inconsistent data -- can be suspected by seeing whether each column has suitable dtype or not.\n"
      ]
    },
    {
      "cell_type": "code",
      "execution_count": null,
      "metadata": {
        "id": "Dl9flB6edkdh"
      },
      "outputs": [],
      "source": [
        "# Here reservation_status_date has object dtype , its dtype should be datetime\n",
        "hotel.info()"
      ]
    },
    {
      "cell_type": "code",
      "execution_count": null,
      "metadata": {
        "id": "o8Yy44jqdkdh"
      },
      "outputs": [],
      "source": [
        "# Converting to datetime\n",
        "\n",
        "# Using try-except block to raise exception if any value in the col is not in datetime format.\n",
        "\n",
        "try:\n",
        "    hotel['reservation_status_date']=pd.to_datetime(hotel['reservation_status_date'])\n",
        "    print('Datetime conversion successful')\n",
        "\n",
        "# This col may have inconsistent values like ?\n",
        "except Exception as e:\n",
        "    print(e)"
      ]
    },
    {
      "cell_type": "code",
      "execution_count": null,
      "metadata": {
        "id": "5g6HBjtudkdi"
      },
      "outputs": [],
      "source": [
        "# Creating 'arrival_date' col by concatenating day/month/year from respctive columns\n",
        "hotel['arrival_date']=hotel['arrival_date_day_of_month'].astype('str')+hotel['arrival_date_month']+hotel['arrival_date_year'].astype('str')\n",
        "\n",
        "# Converting newly created col to  datetime\n",
        "hotel['arrival_date']=pd.to_datetime(hotel['arrival_date'])\n",
        "\n",
        "# Creating new columns by extracting day name & day number\n",
        "hotel['arrival_day_name']=hotel['arrival_date'].dt.day_name()\n",
        "hotel['week_day']=hotel['arrival_date'].dt.weekday\n",
        "\n",
        "\n",
        "# Extracting month & month name\n",
        "hotel['arrival_month']=hotel['arrival_date'].dt.month\n",
        "hotel['arrival_month_name']=hotel['arrival_date'].dt.month_name()\n",
        "\n",
        "\n",
        "# Extracting year\n",
        "hotel['year']=hotel['arrival_date'].dt.year"
      ]
    },
    {
      "cell_type": "code",
      "execution_count": null,
      "metadata": {
        "id": "aAG_a-Pndkdi"
      },
      "outputs": [],
      "source": [
        "# 'week_day_classification' col created classifying a particular day as weekday or a weekend\n",
        "\n",
        "labels=['week_day','weekend']\n",
        "bins=[-1,4,6] #-1 to include 0 in bins\n",
        "hotel['week_day_classification']=pd.cut(hotel['week_day'],bins=bins ,labels=labels)"
      ]
    },
    {
      "cell_type": "code",
      "execution_count": null,
      "metadata": {
        "id": "W8Hf2Z7udkdt"
      },
      "outputs": [],
      "source": [
        "hotel.info()"
      ]
    },
    {
      "cell_type": "markdown",
      "metadata": {
        "id": "H0kj-8xxnORC"
      },
      "source": [
        "### What did you know about your dataset?"
      ]
    },
    {
      "cell_type": "markdown",
      "metadata": {
        "id": "gfoNAAC-nUe_"
      },
      "source": [
        "Given  a hotel transactions dataset in between time period of July 2015 to Aug 2017 comprising 1.2 lakh+ entries & 32 columns"
      ]
    },
    {
      "cell_type": "markdown",
      "metadata": {
        "id": "nA9Y7ga8ng1Z"
      },
      "source": [
        "## ***2. Understanding Your Variables***"
      ]
    },
    {
      "cell_type": "code",
      "execution_count": null,
      "metadata": {
        "id": "j7xfkqrt5Ag5"
      },
      "outputs": [],
      "source": [
        "# Dataset Columns\n",
        "hotel.columns"
      ]
    },
    {
      "cell_type": "code",
      "execution_count": null,
      "metadata": {
        "id": "DnOaZdaE5Q5t"
      },
      "outputs": [],
      "source": [
        "# Dataset Describe\n",
        "hotel.describe()"
      ]
    },
    {
      "cell_type": "code",
      "execution_count": null,
      "metadata": {
        "id": "pDJiPbSmdkdv"
      },
      "outputs": [],
      "source": [
        "# From describe table ,min ADR can't be -6.38. Therefore dropping it\n",
        "hotel[hotel['adr']<0]\n",
        "hotel=hotel[hotel['adr']>=0]\n",
        "hotel.shape"
      ]
    },
    {
      "cell_type": "markdown",
      "metadata": {
        "id": "PBTbrJXOngz2"
      },
      "source": [
        "### Variables Description"
      ]
    },
    {
      "cell_type": "markdown",
      "metadata": {
        "id": "aJV4KIxSnxay"
      },
      "source": [
        "hotel: type of hotel -Resort Hotel or City Hotel\n",
        "\n",
        "is_canceled: A binary value (0 or 1) indicating whether the booking was canceled (0 for not canceled, 1 for canceled).\n",
        "\n",
        "lead_time: The number of days between the booking date and the arrival date.\n",
        "\n",
        "arrival_date_year: The year of the arrival date.\n",
        "\n",
        "arrival_date_month: The month of the arrival date.\n",
        "\n",
        "arrival_date_week_number: The week number of the arrival date.\n",
        "\n",
        "arrival_date_day_of_month: The day of of the arrival date.\n",
        "\n",
        "stays_in_weekend_nights: The number of weekend nights (Saturday and Sunday) the guest stayed or booked to stay\n",
        "\n",
        "\n",
        "stays_in_week_nights: The number of weekday nights (Monday to Friday) the guest stayed.\n",
        "\n",
        "adults: Number of adults\n",
        "\n",
        "children: The number of children\n",
        "\n",
        "babies: The number of infants\n",
        "\n",
        "meal: Type of meal booked.\n",
        "Undefined/SC – no meal package;\n",
        "BB – Bed & Breakfast;\n",
        "HB – Half board (breakfast and one other meal – usually dinner);\n",
        "FB – Full board (breakfast, lunch and dinner)\n",
        "\n",
        "\n",
        "country: The country of origin of the guest.\n",
        "\n",
        "market_segment: The market segment categorizing the booking (e.g., Direct).\n",
        "\n",
        "distribution_channel: The distribution channel through which the booking was made (e.g., Direct).\n",
        "“TA” means “Travel Agents” and “TO” means “Tour Operators”\n",
        "\n",
        "is_repeated_guest:0 for not repeated, 1 for repeated\n",
        "\n",
        "previous_cancellations: The number of previous bookings that were canceled by the guest.\n",
        "\n",
        "previous_bookings_not_canceled: The number of previous bookings that were not canceled by the guest.\n",
        "\n",
        "reserved_room_type: The type of room that was originally reserved.Code\n",
        "\n",
        "assigned_room_type: The type of room assigned to the guest at check-in.Code\n",
        "\n",
        "booking_changes: \tNumber of changes made to the booking from the moment the booking was entered on the PMS until the moment of check-in or cancellation.\n",
        "\n",
        "deposit_type: Indication on if the customer made a deposit to guarantee the booking.\n",
        "This variable can assume three categories:\n",
        "No Deposit – no deposit was made;\n",
        "Non Refund – a deposit was made in the value of the total stay cost;\n",
        "Refundable – a deposit was made with a value under the total cost of stay.\n",
        "\n",
        "agent: The ID of the travel agent associated with the booking (if applicable).\n",
        "\n",
        "company:\tID of the company/entity that made the booking or responsible for paying the booking. ID is presented instead of designation for anonymity reasons\n",
        "\n",
        "days_in_waiting_list: The number of days the booking was on the waiting list before confirmed.\n",
        "\n",
        "\n",
        "customer_type:\tType of booking, assuming one of four categories:\n",
        "1. Contract - when the booking has an allotment or other type of contract associated to it;\n",
        "2. Group – when the booking is associated to a group;\n",
        "3. Transient – when the booking is not part of a group or contract, and is not associated to other transient booking;\n",
        "4. Transient-party – when the booking is transient, but is associated to at least other transient booking.\n",
        "\n",
        "\n",
        "adr: The average daily rate, i.e., the average price per night.\n",
        "\n",
        "required_car_parking_spaces: The number of car parking spaces required by the guest.\n",
        "\n",
        "total_of_special_requests: The total number of special requests made by the guest.\n",
        "\n",
        "reservation_status: Reservation last status, assuming one of three categories:\n",
        "1. Canceled – booking was canceled by the customer;\n",
        "2. Check-Out – customer has checked in but already departed;\n",
        "3. No-Show – customer did not check-in and did inform the hotel of the reason why\n",
        "\n",
        "\n",
        "reservation_status_date:\tDate at which the last status was set. This variable can be used in conjunction with the ReservationStatus to understand when was the booking canceled or when did the customer checked-out of the hotel. The date when the reservation status was last updated."
      ]
    },
    {
      "cell_type": "markdown",
      "metadata": {
        "id": "u3PMJOP6ngxN"
      },
      "source": [
        "### Check Unique Values for each variable."
      ]
    },
    {
      "cell_type": "code",
      "execution_count": null,
      "metadata": {
        "id": "zms12Yq5n-jE"
      },
      "outputs": [],
      "source": [
        "# Check Unique Values for each variable.\n",
        "\n",
        "# Creating DF by passing zip object\n",
        "nunique_df =pd.DataFrame(zip(hotel.columns,\\\n",
        "                             [hotel[col].nunique() for col in hotel.columns.tolist()]),\\\n",
        "                         columns=['Column name','nunique'])\n",
        "\n",
        "\n",
        "nunique_df"
      ]
    },
    {
      "cell_type": "code",
      "execution_count": null,
      "metadata": {
        "id": "IHXEWLaZdkdx"
      },
      "outputs": [],
      "source": [
        "# Categorical Columns are generally the ones having dtype as object\n",
        "# hotel.describe(include='object') displays categorical col\n",
        "\n",
        "for col in hotel.describe(include='object'):  # iterating to display unique values of each categorical col\n",
        "    if hotel[col].nunique()<180:     #to avoid displaying agent id & company id\n",
        "        print(col)\n",
        "        print(hotel[col].unique())\n",
        "        print('-'*50)"
      ]
    },
    {
      "cell_type": "markdown",
      "metadata": {
        "id": "-46u-YSWdkdx"
      },
      "source": [
        "## Outlier Treatment"
      ]
    },
    {
      "cell_type": "code",
      "source": [
        "# Creating total stays col & calculating total nights stayed by adding weekday & weekend night stays\n",
        "hotel['total_stays']=hotel['stays_in_weekend_nights']+hotel['stays_in_week_nights']"
      ],
      "metadata": {
        "id": "H9kCpGUiGUOR"
      },
      "execution_count": null,
      "outputs": []
    },
    {
      "cell_type": "code",
      "execution_count": null,
      "metadata": {
        "id": "0Xw9yOKrdkdy"
      },
      "outputs": [],
      "source": [
        "# Handpicking columns in which outliers may be present\n",
        "\n",
        "posssible_outliers =['lead_time','stays_in_weekend_nights','stays_in_week_nights','days_in_waiting_list','adr','total_stays']\n",
        "plt.figure(figsize=(16,18))\n",
        "n=1\n",
        "for col in posssible_outliers:\n",
        "    plt.subplot(3,3,n)\n",
        "    print(sns.boxplot(data=hotel,x=col))\n",
        "    n+=1\n",
        "\n",
        "# plt.savefig('outlier.jpg')\n",
        "plt.show()\n"
      ]
    },
    {
      "cell_type": "code",
      "source": [],
      "metadata": {
        "id": "SfBAyB4NGiZU"
      },
      "execution_count": null,
      "outputs": []
    },
    {
      "cell_type": "code",
      "execution_count": null,
      "metadata": {
        "id": "xufmMsG5dkd2"
      },
      "outputs": [],
      "source": [
        "sns.violinplot(data=hotel,y='lead_time',x='hotel',palette='nipy_spectral')\n",
        "plt.title(\"Lead_time violin plot\")\n",
        "# plt.savefig('Violinplot.jpg')\n",
        "# In Europe , people plan their vaccation 6 months before.\n",
        "# Later it is proved that higher the lead time greater are the chances of cancellation\n",
        "# But nevertheless, 60 % of bookings done before 365 days are also realized.\n",
        "# Therefore, such rows are not dropped.\n",
        "# hotel=hotel[hotel['total_stays']<50]"
      ]
    },
    {
      "cell_type": "code",
      "execution_count": null,
      "metadata": {
        "id": "AuB1ZhRFdkd0"
      },
      "outputs": [],
      "source": [
        "# 'adr' one outlier 5000.Dropping it\n",
        "\n",
        "hotel=hotel[hotel['adr']<5000]\n",
        "\n",
        "# Hotel type-wise ADR distribution\n",
        "sns.boxplot(data=hotel,y='adr',x='hotel',palette='inferno')\n",
        "plt.title('ADR boxplot')\n",
        "# plt.savefig('adr_boxplot.jpg')\n",
        "\n",
        "# Observation -- in City Hotel some points have adr =0\n",
        "# ADR=0 is ASSUMED to be promotional discount\n"
      ]
    },
    {
      "cell_type": "code",
      "execution_count": null,
      "metadata": {
        "id": "QC0YPfYIdkd0"
      },
      "outputs": [],
      "source": [
        "# In adult boxplot some points are at 0 , which is not possible as number of guests cant be equal to 0 .\\\n",
        "# Therefore,removing such entries\n",
        "\n",
        "adult_0_filter=hotel['adults']==0\n",
        "hotel=hotel[~adult_0_filter]      #Overwriting hotel by extracting rows where number of adults is not 0\n",
        "hotel.shape"
      ]
    },
    {
      "cell_type": "markdown",
      "metadata": {
        "id": "dauF4eBmngu3"
      },
      "source": [
        "## 3. ***Data Wrangling***"
      ]
    },
    {
      "cell_type": "markdown",
      "metadata": {
        "id": "bKJF3rekwFvQ"
      },
      "source": [
        "### Data Wrangling Code"
      ]
    },
    {
      "cell_type": "code",
      "execution_count": null,
      "metadata": {
        "id": "ObuVQ0EQdkd4"
      },
      "outputs": [],
      "source": [
        "# Write your code to make your dataset analysis ready.\n",
        "\n",
        "# Creating total stays col & calculating total nights stayed by adding weekday & weekend night stays\n",
        "hotel['total_stays']=hotel['stays_in_weekend_nights']+hotel['stays_in_week_nights']\n",
        "\n",
        "# Revenue generated = ADR * Number of days stayed\n",
        "hotel['revenue_per_trans'] = hotel['adr']* hotel['total_stays']\n"
      ]
    },
    {
      "cell_type": "code",
      "execution_count": null,
      "metadata": {
        "id": "wk-9a2fpoLcV"
      },
      "outputs": [],
      "source": [
        "# Cancelled & not cancelled data entries will be analysed separately in some scenarios\n",
        "\n",
        "# Masking\n",
        "cancelled_df=hotel[hotel['is_canceled']==1]\n",
        "not_cancelled_df=hotel[hotel['is_canceled']==0]"
      ]
    },
    {
      "cell_type": "code",
      "source": [
        "# Avg stay\n",
        "avg_stay=not_cancelled_df['total_stays'].mean()\n",
        "print(f'{round(avg_stay,1)} are the average nights stayed')"
      ],
      "metadata": {
        "id": "PFTD2H1kZMhT"
      },
      "execution_count": null,
      "outputs": []
    },
    {
      "cell_type": "markdown",
      "metadata": {
        "id": "6mA_ECt6dkd6"
      },
      "source": [
        "## Tops & Bottoms -- Below few cells will depict 1st & last for various columns"
      ]
    },
    {
      "cell_type": "code",
      "execution_count": null,
      "metadata": {
        "id": "exEZ1HS6dkd6"
      },
      "outputs": [],
      "source": [
        "# Q Distribution of bookings bw hotels\n",
        "\n",
        "hotel['hotel'].value_counts(normalize=True).plot(kind='pie',autopct=\"%.2f\",explode=(0,0.2),shadow=True)\n",
        "\n",
        "# Percentage booking in City hotel is more compared to Resort hotel.\n",
        "\n",
        "# plt.savefig('hotel_distri_pie.jpg')\n"
      ]
    },
    {
      "cell_type": "code",
      "execution_count": null,
      "metadata": {
        "id": "2qyNfbvodkd7"
      },
      "outputs": [],
      "source": [
        "# Q From which country maximum bookings come?\n",
        "import plotly.express as px\n",
        "\n",
        "# Groupby country\n",
        "country_visitors=hotel.groupby('country').size()\n",
        "country_visitors=country_visitors.sort_values(ascending=False)\n",
        "\n",
        "# Filtering those countries where guest count >2000\n",
        "country_visitors=country_visitors[hotel['country'].value_counts()>2000]\n",
        "country_visitors=country_visitors.reset_index(name = 'count')\n",
        "\n",
        "\n",
        "# Making a geomap\n",
        "px.choropleth(country_visitors,\n",
        "                    locations = \"country\",\n",
        "                    color= \"count\" ,\n",
        "                    hover_name= \"country\", # column to add to hover information\n",
        "                    color_continuous_scale=\"Viridis_r\",\n",
        "                    title=\"Home country of visitors\")\n",
        "# plt.savefig('map.jpg')\n",
        "# plt.show()\n",
        "\n",
        "# maximum bookings come from PRT /Portugal ,followed by GBR Great Britain\n"
      ]
    },
    {
      "cell_type": "code",
      "execution_count": null,
      "metadata": {
        "id": "Ku_mHR2MN4rr"
      },
      "outputs": [],
      "source": [
        "country_visitors['Percentage_of_total_count']=country_visitors['count']/hotel.shape[0]*100\n",
        "country_visitors"
      ]
    },
    {
      "cell_type": "markdown",
      "metadata": {
        "id": "SUFrD8axN4rs"
      },
      "source": [
        "Overseas business could be harnessed by\n",
        "1. Leveraging digital marketing.\n",
        "2. Listing on local hotel booking apps of the overseas country\n"
      ]
    },
    {
      "cell_type": "code",
      "execution_count": null,
      "metadata": {
        "id": "oeuL63L_dkd7"
      },
      "outputs": [],
      "source": [
        "# Mkt segment & Distribution Channel Trend\n",
        "\n",
        "plt.figure(figsize=(10,4))\n",
        "\n",
        "# Mkt segment plot using pd\n",
        "mkt_segment_percent=hotel['market_segment'].value_counts(normalize=True)*100\n",
        "plt.subplot(1,2,1)\n",
        "mkt_segment=mkt_segment_percent.plot(kind='bar',color=['violet','indigo','b','g','y','orange','r'])\n",
        "plt.title('Types of market segment',fontweight=\"bold\")\n",
        "plt.ylabel(\"Percentage booking by market segment\")\n",
        "\n",
        "# Displaying the percentage values on the plot\n",
        "for p in mkt_segment.patches:\n",
        "      height = round(p.get_height(),1)\n",
        "      mkt_segment.annotate(f'{height}%', (.1+p.get_x() + p.get_width() / 2., height+.2),\n",
        "             ha='center', va='center', xytext=(0, 5), textcoords='offset points'\n",
        "              )\n",
        "\n",
        "\n",
        "# Distribution Channel plot\n",
        "plt.subplot(1,2,2)\n",
        "plt.title('Types of distribution channels',fontweight=\"bold\")\n",
        "distri_channel=sns.countplot(data=hotel,x='distribution_channel',palette='rocket')\n",
        "\n",
        "# Displaying the percentage values on the plot\n",
        "for p in distri_channel.patches:\n",
        "      height = p.get_height()\n",
        "\n",
        "      # Dividing count of each distri channel by using df.shape[0] to obtain %\n",
        "      distri_channel.annotate(f'{height/hotel.shape[0]*100:.2f}%', (p.get_x() + p.get_width() / 2., height),\n",
        "             ha='center', va='center', xytext=(0, 5), textcoords='offset points'\n",
        "              )\n",
        "# plt.savefig('top_mkt_distri.jpg')\n",
        "plt.show()"
      ]
    },
    {
      "cell_type": "code",
      "execution_count": null,
      "metadata": {
        "id": "UgaHM3Uo37sk"
      },
      "outputs": [],
      "source": [
        "cust_type=sns.countplot(data=hotel ,x='customer_type',palette= 'nipy_spectral')\n",
        "\n",
        "# Displaying the percentage values on the plot\n",
        "\n",
        "for p in cust_type.patches:\n",
        "      height = p.get_height()\n",
        "      cust_type.annotate(f'{height/hotel.shape[0]*100:.2f}%', (p.get_x() + p.get_width() / 2., height),\n",
        "             ha='center', va='center', xytext=(0, 5), textcoords='offset points'\n",
        "              )\n",
        "# plt.savefig('customer_type.jpg')"
      ]
    },
    {
      "cell_type": "code",
      "execution_count": null,
      "metadata": {
        "id": "CDw2EMMhN4rw"
      },
      "outputs": [],
      "source": [
        "not_cancelled_df['meal'].unique()"
      ]
    },
    {
      "cell_type": "code",
      "execution_count": null,
      "metadata": {
        "id": "kT7YDassN4rx"
      },
      "outputs": [],
      "source": [
        "# Meal Pie chart\n",
        "plt.pie(not_cancelled_df['meal'].value_counts()[:4],labels=not_cancelled_df['meal'].unique()[:4],\\\n",
        "        colors=['y','violet','orange','r'],autopct='%.2f')\n",
        "plt.savefig('meal.jpg')\n",
        "plt.show()\n"
      ]
    },
    {
      "cell_type": "code",
      "execution_count": null,
      "metadata": {
        "id": "apIjaU04dkd7"
      },
      "outputs": [],
      "source": [
        "# Which room is booked most\n",
        "\n",
        "plt.figure(figsize=(18,6))\n",
        "plt.subplot(1,2,1)\n",
        "assigned_room=sns.countplot(data=not_cancelled_df,x='assigned_room_type',palette='icefire')\n",
        "\n",
        "# Displaying the percentage values on the plot\n",
        "for p in assigned_room.patches:\n",
        "      height = p.get_height()\n",
        "      assigned_room.annotate(f'{height/hotel.shape[0]*100:.2f}%', (p.get_x() + p.get_width() / 2., height),\n",
        "             ha='center', va='center', xytext=(0, 5), textcoords='offset points',fontsize=14\n",
        "              )\n",
        "\n",
        "\n",
        "plt.subplot(1,2,2)\n",
        "res_room=sns.countplot(data=not_cancelled_df,x='reserved_room_type')\n",
        "\n",
        "# Displaying the percentage values on the plot\n",
        "for p in res_room.patches:\n",
        "      height = p.get_height()\n",
        "      res_room.annotate(f'{height/hotel.shape[0]*100:.2f}%', (p.get_x() + p.get_width() / 2., height),\n",
        "             ha='center', va='center', xytext=(0, 5), textcoords='offset points',fontsize=14\n",
        "              )\n",
        "\n",
        "plt.show()"
      ]
    },
    {
      "cell_type": "markdown",
      "metadata": {
        "id": "MSa1f5Uengrz"
      },
      "source": [
        "### What all manipulations have you done and insights you found?"
      ]
    },
    {
      "cell_type": "markdown",
      "metadata": {
        "id": "LbyXE7I1olp8"
      },
      "source": [
        "From mkt segment plot\n",
        "1. Incorporate Corporate & Aviation companies as customers, as their share in the mkt segment is less than 5% .Steps like -\n",
        "  1. entering into half yearly contracts\n",
        "  2. Corporate group trip stays\n",
        "  3. employee family holiday packages etc\n",
        "\n",
        "2. Maximum guests arrive from PRT.International market remains untapped\n",
        "3. A is the most frequent booked room .\n",
        "4. Meal is opted by 99% of customers which is good\n",
        "\n"
      ]
    },
    {
      "cell_type": "markdown",
      "metadata": {
        "id": "GF8Ens_Soomf"
      },
      "source": [
        "## ***4. Data Vizualization, Storytelling & Experimenting with charts : Understand the relationships between variables***"
      ]
    },
    {
      "cell_type": "markdown",
      "metadata": {
        "id": "YJ55k-q6phqO"
      },
      "source": [
        "#### Chart - 1  -- Business Outlook Yearly Trends-- Revenue"
      ]
    },
    {
      "cell_type": "code",
      "execution_count": null,
      "metadata": {
        "id": "hDzurpIv-cNH"
      },
      "outputs": [],
      "source": [
        "# Yearly trend of Realized Monthwise Revenue\n",
        "\n",
        "#DF created by grouping  not cancelled data by year, month & carrying summation of revenue_per_trans\n",
        "year_month_grp_adr_not_cancelled= not_cancelled_df.groupby(['year','arrival_month'])['revenue_per_trans'].sum().reset_index()\n",
        "year_month_grp_adr_not_cancelled\n",
        "\n",
        "\n",
        "# Lineplot\n",
        "plt.figure(figsize=(14,8))\n",
        "sns.lineplot(x='arrival_month',y='revenue_per_trans',data=year_month_grp_adr_not_cancelled,hue='year',palette='rainbow',\\\n",
        "            marker='o')\n",
        "plt.title('Yearly trend of Realized Monthwise Revenue',fontsize=14)\n",
        "plt.ylabel('Sum of Revenue')\n",
        "\n",
        "\n",
        "# Printing respective values on the plot\n",
        "x_0=year_month_grp_adr_not_cancelled['arrival_month']\n",
        "y_0=year_month_grp_adr_not_cancelled['revenue_per_trans']\n",
        "for i in range(len(x_0)):\n",
        "    plt.annotate(f'({int(y_0[i])})', (x_0[i],y_0[i]),textcoords=\"offset points\", \\\n",
        "                 xytext=(0,10),ha='center',fontsize=12)\n",
        "plt.show()"
      ]
    },
    {
      "cell_type": "markdown",
      "metadata": {
        "id": "gCFgpxoyphqP"
      },
      "source": [
        "##### 1. Why did you pick the specific chart?"
      ]
    },
    {
      "cell_type": "markdown",
      "metadata": {
        "id": "TVxDimi2phqP"
      },
      "source": [
        "Line Chart best depicts yearly trend of month on month revenue ."
      ]
    },
    {
      "cell_type": "markdown",
      "metadata": {
        "id": "OVtJsKN_phqQ"
      },
      "source": [
        "##### 2. What is/are the insight(s) found from the chart?"
      ]
    },
    {
      "cell_type": "markdown",
      "metadata": {
        "id": "ngGi97qjphqQ"
      },
      "source": [
        "1. Every successive year , revenue for a particular month increases viz a viz the same month last year.Ex Revenue of August 2015 < Aug 2016 < Aug 2017\n",
        "\n",
        "2. For all the years , pattern of monthly booking follows the same path ie trend lines are parallel to each other with a peak in Aug\n",
        "\n",
        "3. Revenue increase from 2016 to 2017 is less than rev increase from 2015 to 2016.Rate of year on year growth has slowed down ,though growth is positive"
      ]
    },
    {
      "cell_type": "markdown",
      "metadata": {
        "id": "lssrdh5qphqQ"
      },
      "source": [
        "##### 3. Will the gained insights help creating a positive business impact?\n",
        "Are there any insights that lead to negative growth? Justify with specific reason."
      ]
    },
    {
      "cell_type": "markdown",
      "metadata": {
        "id": "tBpY5ekJphqQ"
      },
      "source": [
        "Below steps (at end of analysis)can be taken to increase year on year growth rate"
      ]
    },
    {
      "cell_type": "markdown",
      "metadata": {
        "id": "PIIx-8_IphqN"
      },
      "source": [
        "#### Chart - 2 -- Yearly Trends-- Occupancy"
      ]
    },
    {
      "cell_type": "code",
      "execution_count": null,
      "metadata": {
        "id": "SQpuN_gLIVDj"
      },
      "outputs": [],
      "source": [
        "# Total stays yearwise\n",
        "\n",
        "#DF created by grouping  not cancelled data by year, month & carrying summation of night stays.\n",
        "total_stays_yearwise = not_cancelled_df.groupby(['year','arrival_month'])\\\n",
        "['total_stays'].sum().reset_index()\n",
        "\n",
        "\n",
        "# Lineplot\n",
        "plt.figure(figsize=(14,8))\n",
        "sns.lineplot(data=total_stays_yearwise,x='arrival_month',y='total_stays'\\\n",
        "             ,hue='year',palette='rainbow',marker='o')\n",
        "plt.title('Yearly trend of month on month stays')\n",
        "\n",
        "\n",
        "# Printing respective values on the plot\n",
        "x_b=total_stays_yearwise['arrival_month']\n",
        "y_b=total_stays_yearwise['total_stays']\n",
        "\n",
        "for i in range(len(x_b)):\n",
        "    plt.annotate(f'({int(y_b[i])})', (x_b[i], y_b[i]), textcoords=\"offset points\", xytext=(0,10),\\\n",
        "                 ha='center')"
      ]
    },
    {
      "cell_type": "markdown",
      "metadata": {
        "id": "t27r6nlMphqO"
      },
      "source": [
        "##### 1. Why did you pick the specific chart?"
      ]
    },
    {
      "cell_type": "markdown",
      "metadata": {
        "id": "iv6ro40sphqO"
      },
      "source": [
        "Line Chart best depicts yearly trend of month on month Occupancy ."
      ]
    },
    {
      "cell_type": "markdown",
      "metadata": {
        "id": "r2jJGEOYphqO"
      },
      "source": [
        "##### 2. What is/are the insight(s) found from the chart?"
      ]
    },
    {
      "cell_type": "markdown",
      "metadata": {
        "id": "Po6ZPi4hphqO"
      },
      "source": [
        "1. Slight downfall in Occupancy in Aug 2017 viz 2016.Otherwise trend is positive\n",
        "\n",
        "2. Occupancy drastically increased from 2015 to 2016.But the rate of growth slowed yet positive from 2016 to 2017"
      ]
    },
    {
      "cell_type": "markdown",
      "metadata": {
        "id": "b0JNsNcRphqO"
      },
      "source": [
        "##### 3. Will the gained insights help creating a positive business impact?\n",
        "Are there any insights that lead to negative growth? Justify with specific reason."
      ]
    },
    {
      "cell_type": "markdown",
      "metadata": {
        "id": "xvSq8iUTphqO"
      },
      "source": [
        "Below steps (at end of analysis)can be taken to increase year on year growth rate"
      ]
    },
    {
      "cell_type": "markdown",
      "metadata": {
        "id": "0wOQAZs5pc--"
      },
      "source": [
        "#### Chart - 3 -Comparison of monthwise Revenue-- potential,realised & lost in the given time period"
      ]
    },
    {
      "cell_type": "code",
      "execution_count": null,
      "metadata": {
        "id": "34F-Ehxvdkd8"
      },
      "outputs": [],
      "source": [
        "# Chart - 1 visualization code\n",
        "plt.figure(figsize=(14,8))\n",
        "\n",
        "# Grouping by month\n",
        "revenue_df_month_is_cancelled =hotel.groupby(['arrival_month','is_canceled'])['revenue_per_trans'].sum().reset_index()\n",
        "revenue_df_month =hotel.groupby(['arrival_month'])['revenue_per_trans'].sum().reset_index()\n",
        "\n",
        "\n",
        "# Plotting data\n",
        "sns.lineplot(data=revenue_df_month_is_cancelled,x='arrival_month',y='revenue_per_trans',\\\n",
        "             hue='is_canceled', marker='o',linewidth=3,palette=['g','r'])\n",
        "\n",
        "sns.lineplot(data=revenue_df_month,x='arrival_month',y='revenue_per_trans',marker='s',\\\n",
        "             linestyle='dashed',linewidth=5,label='potential_revenue')\n",
        "plt.ylabel('Sum of Revenue')\n",
        "\n",
        "\n",
        "\n",
        "# Printing respective values on the plot\n",
        "x_11=revenue_df_month['arrival_month']\n",
        "y_11=revenue_df_month['revenue_per_trans']\n",
        "for i in range(len(x_11)):\n",
        "    plt.annotate(f'({int(y_11[i])})', (x_11[i],y_11[i]),textcoords=\"offset points\", \\\n",
        "                 xytext=(0,10),ha='center',fontsize=14)\n",
        "\n",
        "\n",
        "# Plot formatting\n",
        "plt.legend(fontsize=8)\n",
        "plt.title('Comparison of monthwise potential,realised & lost Revenue in given time period',fontsize=14)\n",
        "# plt.savefig('Comparison of monthwise potential,realised & lost Revenue.jpg')\n",
        "plt.show()"
      ]
    },
    {
      "cell_type": "markdown",
      "metadata": {
        "id": "K5QZ13OEpz2H"
      },
      "source": [
        "##### 1. Why did you pick the specific chart?"
      ]
    },
    {
      "cell_type": "markdown",
      "metadata": {
        "id": "XESiWehPqBRc"
      },
      "source": [
        "Line chart can compare monthwise\n",
        "\n",
        " 1. sum of realised average daily rate (ADR),\n",
        "\n",
        " 2. loss of ADR due to cancellations\n",
        "\n",
        " 3. and potential ADR if ADR of cancellationswas also realised"
      ]
    },
    {
      "cell_type": "markdown",
      "metadata": {
        "id": "lQ7QKXXCp7Bj"
      },
      "source": [
        "##### 2. What is/are the insight(s) found from the chart?"
      ]
    },
    {
      "cell_type": "code",
      "execution_count": null,
      "metadata": {
        "id": "5rBIgzwpdkd9"
      },
      "outputs": [],
      "source": [
        "# Calculating sum of respective ADRs\n",
        "\n",
        "# Summation of revenue_per_trans of cancelled bookings\n",
        "lost_rev=revenue_df_month_is_cancelled[revenue_df_month_is_cancelled['is_canceled']==1]['revenue_per_trans'].sum()\n",
        "\n",
        "# Summation of revenue_per_trans of all bookings\n",
        "potential_rev=revenue_df_month_is_cancelled['revenue_per_trans'].sum()\n",
        "\n",
        "# % loss\n",
        "print(f'{int(lost_rev/potential_rev*100)}% Revenue loss incurred due to cancellations in given time period ')\n",
        "print(f'{lost_rev} Euros is the revenue lost in absolute terms in the given time pd')"
      ]
    },
    {
      "cell_type": "markdown",
      "metadata": {
        "id": "C_j1G7yiqdRP"
      },
      "source": [
        "33% Reevenue loss incurred due to cancellations in given time period.\n",
        "1,14,51,509 Euros is the revenue lost in absolute terms in the given time pd"
      ]
    },
    {
      "cell_type": "code",
      "execution_count": null,
      "metadata": {
        "id": "76x36rcrdkd-"
      },
      "outputs": [],
      "source": [
        "#DF created by grouping cancelled data by year, month & carrying summation of revenue_per_trans\n",
        "year_month_grp_adr_cancelled= cancelled_df.groupby(['year','arrival_month'])\\\n",
        "['revenue_per_trans'].sum().reset_index()\n",
        "\n",
        "# Plot\n",
        "plt.figure(figsize=(12,8))\n",
        "sns.lineplot(data=year_month_grp_adr_cancelled,x='arrival_month',y='revenue_per_trans',\\\n",
        "             hue='year',palette='rainbow',marker='o')\n",
        "\n",
        "\n",
        "# Printing values on the plot\n",
        "x_12=year_month_grp_adr_cancelled['arrival_month']\n",
        "y_12=year_month_grp_adr_cancelled['revenue_per_trans']\n",
        "for i in range(len(x_12)):\n",
        "    plt.annotate(f'({int(y_12[i])})', (x_12[i], y_12[i]), textcoords=\"offset points\", xytext=(0,10),\\\n",
        "                 ha='center')\n",
        "\n",
        "# Set labels and title\n",
        "plt.title('Yearly trend of monthwise Revenue loss ')\n",
        "plt.show()"
      ]
    },
    {
      "cell_type": "markdown",
      "metadata": {
        "id": "448CDAPjqfQr"
      },
      "source": [
        "##### 3. Will the gained insights help creating a positive business impact?\n",
        "Are there any insights that lead to negative growth? Justify with specific reason."
      ]
    },
    {
      "cell_type": "markdown",
      "metadata": {
        "id": "dKCpc4lkgEj_"
      },
      "source": [
        " 33% loss in ADR & year on year increasing loss due to cancellation requires a deep analysis, to suggest corrective measures\n"
      ]
    },
    {
      "cell_type": "markdown",
      "metadata": {
        "id": "DbEFC-uEvryH"
      },
      "source": [
        "#### Chart - 4 -- Yearly Trends-- Cancellations"
      ]
    },
    {
      "cell_type": "code",
      "execution_count": null,
      "metadata": {
        "id": "il_OWw8wvryu"
      },
      "outputs": [],
      "source": [
        "# DF created by grouping cancelled data by year , month & carrying out summation of cancellations\n",
        "cancelled_count_yearwise = cancelled_df.groupby(['year','arrival_month'])\\\n",
        "['is_canceled'].count().reset_index(name='cancellation_count')\n",
        "cancelled_count_yearwise\n",
        "\n",
        "# Lineplot\n",
        "plt.figure(figsize=(14,8))\n",
        "sns.lineplot(data=cancelled_count_yearwise,x='arrival_month',y='cancellation_count'\\\n",
        "             ,hue='year',palette='rainbow',marker='s')\n",
        "plt.title(\"Yearly trend of monthwise count of cancellations \")\n",
        "\n",
        "\n",
        "# Plotting respective values on the plot\n",
        "x_a=cancelled_count_yearwise['arrival_month']\n",
        "y_a=cancelled_count_yearwise['cancellation_count']\n",
        "\n",
        "for i in range(len(x_a)):\n",
        "    plt.annotate(f'({int(y_a[i])})', (x_a[i], y_a[i]), textcoords=\"offset points\", xytext=(0,10),\\\n",
        "                 ha='center')\n",
        "# plt.savefig('cancellation count.jpg')\n",
        "plt.show()"
      ]
    },
    {
      "cell_type": "markdown",
      "metadata": {
        "id": "KXA10bpCvryw"
      },
      "source": [
        "##### 1. Why did you pick the specific chart?"
      ]
    },
    {
      "cell_type": "markdown",
      "metadata": {
        "id": "mCFswQ-Nvryy"
      },
      "source": [
        "Line Chart best depicts yearly trend of month on month cancellations"
      ]
    },
    {
      "cell_type": "markdown",
      "metadata": {
        "id": "ZXzvo22Qvryz"
      },
      "source": [
        "##### 2. What is/are the insight(s) found from the chart?"
      ]
    },
    {
      "cell_type": "markdown",
      "metadata": {
        "id": "AR5naLSWvry1"
      },
      "source": [
        "Roughly 500 cancellations increase in a particular month , if compared in successive years.\n"
      ]
    },
    {
      "cell_type": "markdown",
      "metadata": {
        "id": "Df47qDe9vry2"
      },
      "source": [
        "##### 3. Will the gained insights help creating a positive business impact?\n",
        "Are there any insights that lead to negative growth? Justify with specific reason."
      ]
    },
    {
      "cell_type": "markdown",
      "metadata": {
        "id": "KnfjxsK-vry7"
      },
      "source": [
        "Below steps (at end of analysis)can be taken to increase year on year growth rate"
      ]
    },
    {
      "cell_type": "markdown",
      "metadata": {
        "id": "-GYt7rHZvuz7"
      },
      "source": [
        "#### Chart - 5 -- Cumulative Monthly cancellations"
      ]
    },
    {
      "cell_type": "code",
      "execution_count": null,
      "metadata": {
        "id": "3uQj-xVNvu0Y"
      },
      "outputs": [],
      "source": [
        "\n",
        "plt.figure(figsize=(14,8))\n",
        "hotel['month'] = hotel['reservation_status_date'].dt.month\n",
        "\n",
        "mnt_bookings=sns.countplot(data=hotel,x='arrival_month_name',hue='is_canceled',palette=['g','r'])\n",
        "# plt.savefig('monthwise_cancellations.jpg')\n",
        "\n",
        "for p in mnt_bookings.patches:\n",
        "      height = p.get_height()\n",
        "      mnt_bookings.annotate(f'{height/hotel.shape[0]*100:.2f}%', (0.1+p.get_x() + p.get_width() / 2., height),\n",
        "             ha='center', va='center', xytext=(0, 5), textcoords='offset points',fontsize=12\n",
        "              )\n",
        "plt.title('Month-wise cancellation percentage in given time pd',fontsize=14)\n",
        "plt.show()\n"
      ]
    },
    {
      "cell_type": "markdown",
      "metadata": {
        "id": "gywLNEX2vu0Z"
      },
      "source": [
        "##### 1. Why did you pick the specific chart?"
      ]
    },
    {
      "cell_type": "markdown",
      "metadata": {
        "id": "MGXZDuvWvu0a"
      },
      "source": [
        "Grouped Bar Chart best depicts cumulative cancellations trend of a particular month in the given time period"
      ]
    },
    {
      "cell_type": "markdown",
      "metadata": {
        "id": "KalD1pUpvu0e"
      },
      "source": [
        "##### 2. What is/are the insight(s) found from the chart?"
      ]
    },
    {
      "cell_type": "code",
      "execution_count": null,
      "metadata": {
        "id": "Teb9cDIpN4_O"
      },
      "outputs": [],
      "source": [
        "mnt_cncl = pd.crosstab(hotel['arrival_month_name'],hotel['is_canceled'],normalize=True)*100\n",
        "# normalize='index'--to calculate percentage over each row\n",
        "print(mnt_cncl,'\\n')\n",
        "\n",
        "# Finding max cancellation month\n",
        "mnt_cncl[mnt_cncl[1]==max(mnt_cncl[1])]"
      ]
    },
    {
      "cell_type": "code",
      "execution_count": null,
      "metadata": {
        "id": "fsi7lI32N4_P"
      },
      "outputs": [],
      "source": [
        "# Finding min bookings month\n",
        "mnt_cncl[mnt_cncl[0]==min(mnt_cncl[0])]"
      ]
    },
    {
      "cell_type": "markdown",
      "metadata": {
        "id": "R9f0muFqvu0g"
      },
      "source": [
        "1. August has highest cancellations as well as highest bookings\n",
        "2. Jan has lowest non cancelled bookings"
      ]
    },
    {
      "cell_type": "markdown",
      "metadata": {
        "id": "JMfZoA0hvu0h"
      },
      "source": [
        "##### 3. Will the gained insights help creating a positive business impact?\n",
        "Are there any insights that lead to negative growth? Justify with specific reason."
      ]
    },
    {
      "cell_type": "markdown",
      "metadata": {
        "id": "6p8uFvTzvu0i"
      },
      "source": [
        "1. Discounts can be given in Jan & other low booking months to increase occupancy.\n",
        "2. Prices can be increased in Aug ,July"
      ]
    },
    {
      "cell_type": "markdown",
      "metadata": {
        "id": "i8jvzAgQlUCw"
      },
      "source": [
        "#### Chart - 6 --Hotel_typewise Cancellation Trends  \n"
      ]
    },
    {
      "cell_type": "code",
      "execution_count": null,
      "metadata": {
        "id": "cLng0PBlyt_9"
      },
      "outputs": [],
      "source": [
        "# Cancellations hoteltypewise\n",
        "\n",
        "# Grouping by hotel\n",
        "plot_2=hotel.groupby(by='hotel')['is_canceled'].value_counts(normalize=True)\\\n",
        ".plot(kind='bar',color=['g','r'])\n",
        "\n",
        "\n",
        "# For printing percentages on the chart\n",
        "for p in plot_2.patches:\n",
        "      height = p.get_height()\n",
        "      plot_2.annotate(f'{height*100:.2f}%', (p.get_x() + p.get_width() / 2., height),\n",
        "             ha='center', va='center', xytext=(0, 5), textcoords='offset points'\n",
        "              )\n",
        "\n",
        "\n",
        "plt.ylabel('Proportion of Hotel Reservations')\n",
        "# plt.savefig('hoteltypewise cancellations.jpg')\n",
        "plt.title('Cancellation percentage hotel-type-wise')\n",
        "plt.show()\n"
      ]
    },
    {
      "cell_type": "markdown",
      "metadata": {
        "id": "8sZsv7kVlL5A"
      },
      "source": [
        "##### 1. Why did you pick the specific chart?"
      ]
    },
    {
      "cell_type": "markdown",
      "metadata": {
        "id": "JswtqZz_lL5d"
      },
      "source": [
        "Grouped Bar chart can best depict all 4 combinations of 2 hotel types & 2 is_canceled."
      ]
    },
    {
      "cell_type": "markdown",
      "metadata": {
        "id": "97XlPkZ5lL5e"
      },
      "source": [
        "##### 2. What is/are the insight(s) found from the chart?"
      ]
    },
    {
      "cell_type": "code",
      "execution_count": null,
      "metadata": {
        "id": "UwivlXfDzALF"
      },
      "outputs": [],
      "source": [
        "# Higher cancellation percentage in City Hotel\n",
        "pd.crosstab(hotel['is_canceled'],hotel['hotel'],normalize='columns')*100"
      ]
    },
    {
      "cell_type": "markdown",
      "metadata": {
        "id": "mpq5YJRElL5f"
      },
      "source": [
        "Answer Here"
      ]
    },
    {
      "cell_type": "markdown",
      "metadata": {
        "id": "eDYzkFTBlL5f"
      },
      "source": [
        "##### 3. Will the gained insights help creating a positive business impact?\n",
        "Are there any insights that lead to negative growth? Justify with specific reason."
      ]
    },
    {
      "cell_type": "markdown",
      "metadata": {
        "id": "IhVwiTPHlL5g"
      },
      "source": [
        "1. City hotel has 30% cancellations.Higher cancellations because city hotel has more bookings than Resort\n",
        "2. 15% can be considered normal.More than 15% is a loss to hotel in terms of lost opportunity cost due to less occupancy"
      ]
    },
    {
      "cell_type": "markdown",
      "metadata": {
        "id": "zNm36mQgt831"
      },
      "source": [
        "#### Chart - 7 -Countrywise cancellations"
      ]
    },
    {
      "cell_type": "code",
      "execution_count": null,
      "metadata": {
        "id": "8oxn-0K2t84T"
      },
      "outputs": [],
      "source": [
        "# Finding guests from which country cancel more often.\n",
        "top_10_country_canceled = cancelled_df['country'].value_counts()[:10]\n",
        "\n",
        "# Plotting pie of (top_10_country_canceled)\n",
        "plt.pie(top_10_country_canceled,labels=top_10_country_canceled.index,autopct='%.2f')\n",
        "plt.title('Country-wise wise cancellations',fontsize=12)\n",
        "# plt.savefig('countrywise_cancellations.jpg')\n",
        "plt.show()\n",
        "\n"
      ]
    },
    {
      "cell_type": "markdown",
      "metadata": {
        "id": "0Yli4ViTt84U"
      },
      "source": [
        "##### 1. Why did you pick the specific chart?"
      ]
    },
    {
      "cell_type": "markdown",
      "metadata": {
        "id": "nXK3JUDvt84V"
      },
      "source": [
        "Pie chart depicts distribution of countrywise cancellations."
      ]
    },
    {
      "cell_type": "markdown",
      "metadata": {
        "id": "OWGXyXHUt84V"
      },
      "source": [
        "##### 2. What is/are the insight(s) found from the chart?"
      ]
    },
    {
      "cell_type": "markdown",
      "metadata": {
        "id": "w-cObsFat84W"
      },
      "source": [
        "PRT ie Portugal country's guests has the highest proportion of cancellations"
      ]
    },
    {
      "cell_type": "markdown",
      "metadata": {
        "id": "-gPRaAemvBW8"
      },
      "source": [
        "##### 3. Will the gained insights help creating a positive business impact?\n",
        "Are there any insights that lead to negative growth? Justify with specific reason."
      ]
    },
    {
      "cell_type": "markdown",
      "metadata": {
        "id": "rdWHNY6_vCRp"
      },
      "source": [
        "Since the hotel is located in PRT , maximum bookings & cancellations come from there . Market share of other countries is less.Therefore , there is untapped overseas business potential.  "
      ]
    },
    {
      "cell_type": "markdown",
      "metadata": {
        "id": "0EUQey4trC3U"
      },
      "source": [
        "#### Chart - 8 -- Lead_time vs Cancellations"
      ]
    },
    {
      "cell_type": "code",
      "execution_count": null,
      "metadata": {
        "id": "xdJBwAJUdkeA"
      },
      "outputs": [],
      "source": [
        "# Categorising lead_time in a new col\n",
        "lead_time_labels=['0-2 days','3-15 days','16-30 days','31-90 days','91-180 days','181-365 days','365+ days']\n",
        "lead_time_bins=[-1,2,15,30,90,180,365,float('inf')]\n",
        "hotel['lead_time_classification']=pd.cut(hotel['lead_time'],bins=lead_time_bins,labels=lead_time_labels)\n",
        "\n",
        "# Bar Plot of lead_time_categorisation\n",
        "plot_lead_time =hotel.groupby('lead_time_classification')['is_canceled'].value_counts(normalize=True)\\\n",
        ".plot(kind='bar',color=['g','r'])\n",
        "plt.title('Bar Plot of lead_time_categorisation',fontsize=14)\n",
        "plt.ylabel(\"Proportion of is_cancelled of each bin\")\n",
        "\n",
        "\n",
        "# Calculating & printing % on the plot\n",
        "for p in plot_lead_time.patches:\n",
        "      height = p.get_height()\n",
        "      plot_lead_time.annotate(f'{height*100:.2f}%', (p.get_x() + p.get_width() / 2., height),\n",
        "             ha='center', va='center', xytext=(0, 5), textcoords='offset points' )\n",
        "# plt.savefig('Lead_time vs Cancellations.jpg')\n",
        "plt.show()\n"
      ]
    },
    {
      "cell_type": "markdown",
      "metadata": {
        "id": "btb-wfH8dkeA"
      },
      "source": [
        "##### 1. Why did you pick the specific chart?\n"
      ]
    },
    {
      "cell_type": "markdown",
      "metadata": {
        "id": "DiUTMqgudkeB"
      },
      "source": [
        "Grouped bar chart best highlights the percentage of cancellations for each category of lead_time column."
      ]
    },
    {
      "cell_type": "markdown",
      "metadata": {
        "id": "vstUGCoidkeB"
      },
      "source": [
        "##### 2. What is/are the insight(s) found from the chart?\n"
      ]
    },
    {
      "cell_type": "code",
      "execution_count": null,
      "metadata": {
        "id": "BCCLJeMNdkeB"
      },
      "outputs": [],
      "source": [
        "pd.crosstab(hotel['lead_time_classification'],hotel['is_canceled'],normalize='index')*100"
      ]
    },
    {
      "cell_type": "markdown",
      "metadata": {
        "id": "hqoljNSwdkeB"
      },
      "source": [
        "1. As the lead time increases, the cancellation percentage also increases.\n",
        "2. For lead time greater than 30 days cancellation is greater than 30%"
      ]
    },
    {
      "cell_type": "markdown",
      "metadata": {
        "id": "HrZPXYiIdkeB"
      },
      "source": [
        "##### 3. Will the gained insights help creating a positive business impact?\n",
        "Are there any insights that lead to negative growth? Justify with specific reason.\n"
      ]
    },
    {
      "cell_type": "markdown",
      "metadata": {
        "id": "m2kY750zdkeC"
      },
      "source": [
        "1.Disable advance booking of more than 15 days."
      ]
    },
    {
      "cell_type": "markdown",
      "metadata": {
        "id": "EM7whBJCYoAo"
      },
      "source": [
        "#### Chart - 9 --KDE of ADR"
      ]
    },
    {
      "cell_type": "code",
      "execution_count": null,
      "metadata": {
        "id": "t6GMdE67YoAp"
      },
      "outputs": [],
      "source": [
        "# Chart - 4 visualization code\n",
        "\n",
        "# Hypothesis-- High ADR(price) leads to increased cancellations.\n",
        "plt.figure(figsize=(8,4))\n",
        "sns.kdeplot(data=hotel,hue='is_canceled',x='adr',palette=['green','red'])\n",
        "plt.title(\"KDE of ADR\",fontsize=16)\n",
        "# plt.savefig('KDE of ADR.png')\n",
        "plt.show()\n",
        "\n",
        "\n",
        "# From plot\n",
        "# ADR has no effect on cancellations\n",
        "# Both green and red plot have highest probability density near adr 100.\n",
        "# When ADR is 0 ,then also there are cancellations"
      ]
    },
    {
      "cell_type": "markdown",
      "metadata": {
        "id": "fge-S5ZAYoAp"
      },
      "source": [
        "##### 1. Why did you pick the specific chart?"
      ]
    },
    {
      "cell_type": "markdown",
      "metadata": {
        "id": "5dBItgRVYoAp"
      },
      "source": [
        "Kernel Density Estimation shows probability distribution at various ADRs for both cancelled & not cancelled"
      ]
    },
    {
      "cell_type": "markdown",
      "metadata": {
        "id": "85gYPyotYoAp"
      },
      "source": [
        "##### 2. What is/are the insight(s) found from the chart?"
      ]
    },
    {
      "cell_type": "markdown",
      "metadata": {
        "id": "4jstXR6OYoAp"
      },
      "source": [
        "1. Contrary to hypothesis ,ADR has no effect on cancellations\n",
        "2. Both green and red lines have highest probability density near adr 100.\n",
        "3. When ADR is 0 ,then also there are cancellations"
      ]
    },
    {
      "cell_type": "markdown",
      "metadata": {
        "id": "RoGjAbkUYoAp"
      },
      "source": [
        "##### 3. Will the gained insights help creating a positive business impact?\n",
        "Are there any insights that lead to negative growth? Justify with specific reason."
      ]
    },
    {
      "cell_type": "markdown",
      "metadata": {
        "id": "zfJ8IqMcYoAp"
      },
      "source": [
        "1. Our prices are competitive"
      ]
    },
    {
      "cell_type": "markdown",
      "metadata": {
        "id": "4Of9eVA-YrdM"
      },
      "source": [
        "#### Chart - 10- Deposit_type vs Cancellations"
      ]
    },
    {
      "cell_type": "code",
      "execution_count": null,
      "metadata": {
        "id": "irlUoxc8YrdO"
      },
      "outputs": [],
      "source": [
        "# Chart - 5 visualization code\n",
        "\n",
        "# Hypothesis--Lower cancellation rates  in case of non refundable advance bookings.\n",
        "\n",
        "deposit_type=sns.countplot(data=hotel,x='deposit_type',hue='is_canceled',palette=['green','red'])\n",
        "plt.title(\"Count of Deposit-types\")\n",
        "\n",
        "plt.savefig('Count of Deposit-types.png')\n",
        "plt.show()\n"
      ]
    },
    {
      "cell_type": "markdown",
      "metadata": {
        "id": "iky9q4vBYrdO"
      },
      "source": [
        "##### 1. Why did you pick the specific chart?"
      ]
    },
    {
      "cell_type": "markdown",
      "metadata": {
        "id": "aJRCwT6DYrdO"
      },
      "source": [
        "Grouped bar chart best highlights the percentage of cancellations for each category of deposit_type"
      ]
    },
    {
      "cell_type": "markdown",
      "metadata": {
        "id": "F6T5p64dYrdO"
      },
      "source": [
        "##### 2. What is/are the insight(s) found from the chart?"
      ]
    },
    {
      "cell_type": "code",
      "execution_count": null,
      "metadata": {
        "id": "GH9FapqgdkeI"
      },
      "outputs": [],
      "source": [
        "hotel.groupby(['deposit_type'])['is_canceled'].value_counts(normalize=True)*100"
      ]
    },
    {
      "cell_type": "markdown",
      "metadata": {
        "id": "Xx8WAJvtYrdO"
      },
      "source": [
        "1. A no deposit & refundable booking type has approx 25% chance of cancellation\n",
        "2. In cases when the advance is non-refundable only 95% cancellations were observed,which is contrary to the hypothesis. But non-refundable bookings are less in number in absolute terms"
      ]
    },
    {
      "cell_type": "markdown",
      "metadata": {
        "id": "y-Ehk30pYrdP"
      },
      "source": [
        "##### 3. Will the gained insights help creating a positive business impact?\n",
        "Are there any insights that lead to negative growth? Justify with specific reason."
      ]
    },
    {
      "cell_type": "markdown",
      "metadata": {
        "id": "jLNxxz7MYrdP"
      },
      "source": [
        "1.Non refundable deposits have not been able to stop cancellations.Since non refundable bookings are less in number it implies people hesitate to pay advance payments.Non refundable advance bookings can be done away with."
      ]
    },
    {
      "cell_type": "markdown",
      "metadata": {
        "id": "bamQiAODYuh1"
      },
      "source": [
        "#### Chart - 11 Mkt Segmentwise Cancellations"
      ]
    },
    {
      "cell_type": "code",
      "execution_count": null,
      "metadata": {
        "id": "JyosfXpPdkeJ"
      },
      "outputs": [],
      "source": [
        "plt.figure(figsize=(12,5))\n",
        "plt.subplot(1,2,1)\n",
        "plt.pie(x=cancelled_df['market_segment'].value_counts()[:5],\\\n",
        "        labels=cancelled_df['market_segment'].unique()[:5],\\\n",
        "        colors=['crimson','indigo','violet','g','y','orange','r'],autopct='%.2f')\n",
        "# cancelled_df['market_segment'].value_counts()[:5].plot(kind='pie')\n",
        "plt.title('Mkt Segment wise cancellations')\n",
        "\n",
        "# Online TAs\n",
        "\n",
        "plt.subplot(1,2,2)\n",
        "\n",
        "hotel.groupby('market_segment')['is_canceled'].value_counts().plot(kind='bar',color=['g','r'])\n",
        "# plt.savefig('market_segment_cancellations.jpg')\n",
        "\n",
        "plt.show()\n"
      ]
    },
    {
      "cell_type": "markdown",
      "metadata": {
        "id": "QHF8YVU7Yuh3"
      },
      "source": [
        "##### 1. Why did you pick the specific chart?"
      ]
    },
    {
      "cell_type": "markdown",
      "metadata": {
        "id": "dcxuIMRPYuh3"
      },
      "source": [
        "1. Pie chart shows distribution of total cancellations\n",
        "2.Bar plot shows cancellations & bookings in absolute terms."
      ]
    },
    {
      "cell_type": "markdown",
      "metadata": {
        "id": "GwzvFGzlYuh3"
      },
      "source": [
        "##### 2. What is/are the insight(s) found from the chart?"
      ]
    },
    {
      "cell_type": "code",
      "execution_count": null,
      "metadata": {
        "id": "b36_9Z8tdkeK"
      },
      "outputs": [],
      "source": [
        "pd.crosstab(hotel['market_segment'],hotel['is_canceled'],normalize='index')[:7]*100"
      ]
    },
    {
      "cell_type": "markdown",
      "metadata": {
        "id": "uyqkiB8YYuh3"
      },
      "source": [
        "From crosstab table\n",
        "1. Online TAs -- For every 100 tickets booked by online TAs ,35 are cancelled.But, they outperform in bringing business with more than 30k non-cancelled tickets\n",
        "\n",
        "2.Groups -- For every 100 tickets booked by Groups ,27 are cancelled.\n",
        "3. For rest cancellations are within 15% threshold.\n",
        "\n",
        "From Mkt Segment wise cancellations plot\n",
        "1. From pie chart, out of total cancellations ,75% come from Online TAs."
      ]
    },
    {
      "cell_type": "markdown",
      "metadata": {
        "id": "qYpmQ266Yuh3"
      },
      "source": [
        "##### 3. Will the gained insights help creating a positive business impact?\n",
        "Are there any insights that lead to negative growth? Justify with specific reason."
      ]
    },
    {
      "cell_type": "markdown",
      "metadata": {
        "id": "_WtzZ_hCYuh4"
      },
      "source": [
        "Overbook the rooms using a suitable model"
      ]
    },
    {
      "cell_type": "code",
      "execution_count": null,
      "metadata": {
        "id": "kuRf4wtuphqN"
      },
      "outputs": [],
      "source": [
        "# Chart - 6 visualization code\n",
        "sns.countplot(data=hotel,y='customer_type',hue='is_canceled')"
      ]
    },
    {
      "cell_type": "markdown",
      "metadata": {
        "id": "U2RJ9gkRphqQ"
      },
      "source": [
        "#### Chart - 12 --Repeated Guests"
      ]
    },
    {
      "cell_type": "code",
      "execution_count": null,
      "metadata": {
        "id": "qQ7yzux40-8_"
      },
      "outputs": [],
      "source": [
        "# Chart - 10 visualization code\n",
        "hotel['is_repeated_guest'].value_counts().plot(kind='pie',autopct='%.2f')\n",
        "# plt.savefig('is_repeated.jpg')\n",
        "\n",
        "#"
      ]
    },
    {
      "cell_type": "markdown",
      "metadata": {
        "id": "1M8mcRywphqQ"
      },
      "source": [
        "##### 1. Why did you pick the specific chart?"
      ]
    },
    {
      "cell_type": "markdown",
      "metadata": {
        "id": "8agQvks0phqQ"
      },
      "source": [
        "Pie chart depicts composition of repeated guests"
      ]
    },
    {
      "cell_type": "markdown",
      "metadata": {
        "id": "tgIPom80phqQ"
      },
      "source": [
        "##### 2. What is/are the insight(s) found from the chart?"
      ]
    },
    {
      "cell_type": "markdown",
      "metadata": {
        "id": "Qp13pnNzphqQ"
      },
      "source": [
        "Low customer repeatibility."
      ]
    },
    {
      "cell_type": "markdown",
      "metadata": {
        "id": "JMzcOPDDphqR"
      },
      "source": [
        "##### 3. Will the gained insights help creating a positive business impact?\n",
        "Are there any insights that lead to negative growth? Justify with specific reason."
      ]
    },
    {
      "cell_type": "markdown",
      "metadata": {
        "id": "R4Ka1PC2phqR"
      },
      "source": [
        "1. Get a feedback form filled-- Find possible reasons of low repeatibility .Work on those suggestions.\n",
        "2. Start loyalty cards scheme , discount on subsequebt visits.\n",
        "3. Need to focus on customer retention as it is more economical than customer acquisition."
      ]
    },
    {
      "cell_type": "markdown",
      "metadata": {
        "id": "Ag9LCva-p1cl"
      },
      "source": [
        "#### Chart - 13 - Monthly percentage arrival"
      ]
    },
    {
      "cell_type": "code",
      "execution_count": null,
      "metadata": {
        "id": "EUfxeq9-p1cl"
      },
      "outputs": [],
      "source": [
        "# Chart - 13 visualization code\n",
        "month_occ=sns.countplot(data= not_cancelled_df,x='arrival_date_month',hue='hotel',palette='rocket')\n",
        "plt.title('Monthwise booking trends of each hotel type')\n",
        "plt.xticks(rotation=45)\n",
        "# plt.savefig('month_occ.jpg')\n",
        "\n",
        "for p in month_occ.patches:\n",
        "    ht=p.get_height()\n",
        "\n",
        "#     dividng height of patch by shape[0] of not_cancelled_df\n",
        "    month_occ.annotate(f'{ht/not_cancelled_df.shape[0]*100:.1f}%', (p.get_x() + p.get_width() / 2, ht),\n",
        "             ha='center', va='center', xytext=(0, 5), textcoords='offset points')\n",
        "\n",
        "\n"
      ]
    },
    {
      "cell_type": "markdown",
      "metadata": {
        "id": "E6MkPsBcp1cl"
      },
      "source": [
        "##### 1. Why did you pick the specific chart?"
      ]
    },
    {
      "cell_type": "markdown",
      "metadata": {
        "id": "V22bRsFWp1cl"
      },
      "source": [
        "Countplot shows monthwise booking trends of each hotel type"
      ]
    },
    {
      "cell_type": "markdown",
      "metadata": {
        "id": "2cELzS2fp1cl"
      },
      "source": [
        "##### 2. What is/are the insight(s) found from the chart?"
      ]
    },
    {
      "cell_type": "code",
      "execution_count": null,
      "metadata": {
        "id": "5PK7-CpYNCaj"
      },
      "outputs": [],
      "source": [
        "monthwise_guests_arrival=not_cancelled_df['arrival_date_month'].value_counts(normalize=True).reset_index()\n",
        "monthwise_guests_arrival.columns=['month','percentage arrival']\n",
        "monthwise_guests_arrival['percentage arrival']=monthwise_guests_arrival['percentage arrival']*100\n",
        "monthwise_guests_arrival\n"
      ]
    },
    {
      "cell_type": "markdown",
      "metadata": {
        "id": "ozQPc2_Ip1cl"
      },
      "source": [
        "Dec, Jan are the lean business season"
      ]
    },
    {
      "cell_type": "markdown",
      "metadata": {
        "id": "3MPXvC8up1cl"
      },
      "source": [
        "##### 3. Will the gained insights help creating a positive business impact?\n",
        "Are there any insights that lead to negative growth? Justify with specific reason."
      ]
    },
    {
      "cell_type": "markdown",
      "metadata": {
        "id": "GL8l1tdLp1cl"
      },
      "source": [
        "1. Discounts can be given in Jan & other low booking months to increase occupancy.\n",
        "2. Dynamic  Pricing  can be introduced  in peak booking months Aug ,July"
      ]
    },
    {
      "cell_type": "markdown",
      "metadata": {
        "id": "n3dbpmDWp1ck"
      },
      "source": [
        "#### Chart - 14 -- Weekend &weekday occupancy"
      ]
    },
    {
      "cell_type": "code",
      "execution_count": null,
      "metadata": {
        "id": "bwevp1tKp1ck"
      },
      "outputs": [],
      "source": [
        "# Chart - 14 visualization code\n",
        "# Hypothesis higher booking percentage & adr on weekdays\n",
        "\n",
        "\n",
        "week_plot=sns.countplot(data=not_cancelled_df,hue='week_day_classification',x='hotel',palette='rainbow')\n",
        "# for p in week_plot.patches:\n",
        "#     ht= p.get_height()\n",
        "#     week_plot.annotate(f'{ht/not_cancelled_df.shape[0]*100:.1f}%'\\\n",
        "#                       ,(p.get_x()+p.get_width()/2,ht),\\\n",
        "#                        ha='center', va='center', xytext=(0, 5), textcoords='offset points')\n",
        "# plt.savefig('week.jpg')\n",
        "plt.show()\n"
      ]
    },
    {
      "cell_type": "markdown",
      "metadata": {
        "id": "ylSl6qgtp1ck"
      },
      "source": [
        "##### 1. Why did you pick the specific chart?"
      ]
    },
    {
      "cell_type": "markdown",
      "metadata": {
        "id": "m2xqNkiQp1ck"
      },
      "source": [
        "Answer Here."
      ]
    },
    {
      "cell_type": "markdown",
      "metadata": {
        "id": "ZWILFDl5p1ck"
      },
      "source": [
        "##### 2. What is/are the insight(s) found from the chart?"
      ]
    },
    {
      "cell_type": "code",
      "execution_count": null,
      "metadata": {
        "id": "kxgTrVcpQ_7O"
      },
      "outputs": [],
      "source": [
        "pd.crosstab(not_cancelled_df['hotel'],not_cancelled_df['week_day_classification'],normalize='index')*100\n"
      ]
    },
    {
      "cell_type": "code",
      "execution_count": null,
      "metadata": {
        "id": "CrLbgAgeN5A5"
      },
      "outputs": [],
      "source": [
        "adr_week=not_cancelled_df.groupby(['week_day_classification'])['adr'].sum()\n",
        "\n",
        "print('\\n\\n')\n",
        "print('adr per day in weekdays:',adr_week[0]/5)\n",
        "print('adr per day on weekends:',adr_week[1]/2)"
      ]
    },
    {
      "cell_type": "markdown",
      "metadata": {
        "id": "x-lUsV2mp1ck"
      },
      "source": [
        "1. 72% bookings happen in 5 weekdays implying 14.2 % per day( 72/5) in both hotel types\n",
        "2. 28% bookings happen on weekend ie 2 days14% per day\n",
        "3. Same booking percentage each day for both the hotels.\n",
        "4. Same ADR per day for both week days & weekend days"
      ]
    },
    {
      "cell_type": "markdown",
      "metadata": {
        "id": "M7G43BXep1ck"
      },
      "source": [
        "##### 3. Will the gained insights help creating a positive business impact?\n",
        "Are there any insights that lead to negative growth? Justify with specific reason."
      ]
    },
    {
      "cell_type": "markdown",
      "metadata": {
        "id": "5wwDJXsLp1cl"
      },
      "source": [
        "Answer Here"
      ]
    },
    {
      "cell_type": "markdown",
      "metadata": {
        "id": "NC_X3p0fY2L0"
      },
      "source": [
        "#### Chart - 15 - Correlation Heatmap"
      ]
    },
    {
      "cell_type": "code",
      "execution_count": null,
      "metadata": {
        "id": "XZkyKvTDdked"
      },
      "outputs": [],
      "source": [
        "\n",
        "col=[ 'is_canceled', 'lead_time', 'total_stays', 'adults','is_repeated_guest','days_in_waiting_list','adr',\n",
        "  'reservation_status_date', 'arrival_date']\n",
        "corr = hotel[col].corr()\n",
        "cmap = cmap=sns.diverging_palette(5, 250, as_cmap=True)\n",
        "\n",
        "def magnify():\n",
        "    return [dict(selector=\"th\",\n",
        "                 props=[(\"font-size\", \"7pt\")]),\n",
        "            dict(selector=\"td\",\n",
        "                 props=[('padding', \"0em 0em\")]),\n",
        "            dict(selector=\"th:hover\",\n",
        "                 props=[(\"font-size\", \"12pt\")]),\n",
        "            dict(selector=\"tr:hover td:hover\",\n",
        "                 props=[('max-width', '200px'),\n",
        "                        ('font-size', '12pt')])\n",
        "]\n",
        "\n",
        "corr.style.background_gradient(cmap, axis=1)\\\n",
        "    .set_properties(**{'max-width': '80px', 'font-size': '10pt'})\\\n",
        "    .set_caption(\"Hover to magify\")\\\n",
        "    .set_precision(2)\\\n",
        "    .set_table_styles(magnify())"
      ]
    },
    {
      "cell_type": "markdown",
      "metadata": {
        "id": "UV0SzAkaZNRQ"
      },
      "source": [
        "##### 1. Why did you pick the specific chart?"
      ]
    },
    {
      "cell_type": "markdown",
      "metadata": {
        "id": "DVPuT8LYZNRQ"
      },
      "source": [
        "Heatmap quantifies correlation bw 2 variables\n"
      ]
    },
    {
      "cell_type": "markdown",
      "metadata": {
        "id": "YPEH6qLeZNRQ"
      },
      "source": [
        "##### 2. What is/are the insight(s) found from the chart?"
      ]
    },
    {
      "cell_type": "markdown",
      "metadata": {
        "id": "bfSqtnDqZNRR"
      },
      "source": [
        "High correlation variables like\n",
        "\n",
        "1. lead_time with is_cancelled\n",
        "2. adr vs is_cancelled\n",
        "3. lead_time vs total stays was analysed above"
      ]
    },
    {
      "cell_type": "markdown",
      "metadata": {
        "id": "q29F0dvdveiT"
      },
      "source": [
        "#### Chart - 16 - Pair Plot"
      ]
    },
    {
      "cell_type": "code",
      "execution_count": null,
      "metadata": {
        "id": "o58-TEIhveiU"
      },
      "outputs": [],
      "source": [
        "# Pair Plot visualization code\n",
        "sns.pairplot(data=hotel[col])"
      ]
    },
    {
      "cell_type": "markdown",
      "metadata": {
        "id": "EXh0U9oCveiU"
      },
      "source": [
        "##### 1. Why did you pick the specific chart?"
      ]
    },
    {
      "cell_type": "markdown",
      "metadata": {
        "id": "eMmPjTByveiU"
      },
      "source": [
        "Pair plot depicts Bivariate relationship bw the 2 col passed in the list"
      ]
    },
    {
      "cell_type": "markdown",
      "metadata": {
        "id": "22aHeOlLveiV"
      },
      "source": [
        "##### 2. What is/are the insight(s) found from the chart?"
      ]
    },
    {
      "cell_type": "markdown",
      "metadata": {
        "id": "uPQ8RGwHveiV"
      },
      "source": [
        "Scatter plot bw any two variables shows the given relation."
      ]
    },
    {
      "cell_type": "markdown",
      "metadata": {
        "id": "JcMwzZxoAimU"
      },
      "source": [
        "## **5. Solution to Business Objective**"
      ]
    },
    {
      "cell_type": "markdown",
      "metadata": {
        "id": "8G2x9gOozGDZ"
      },
      "source": [
        "#### What do you suggest the client to achieve Business Objective ?\n",
        "Explain Briefly."
      ]
    },
    {
      "cell_type": "markdown",
      "metadata": {
        "id": "pASKb0qOza21"
      },
      "source": [
        "\n",
        "**Cancelling the cancellations**\n",
        "\n",
        "As per the analysis, remedial measures to reduce cancellation rates are --\n",
        "\n",
        "1. **Disallow advance booking of greater than 15 days** --as\n",
        "for lead time greater than 15 days, cancellation rate increases to 30%. For lead time , less than 15 days cancellation rate is 15%\n",
        "\n",
        "5. Introduce **Dynamic pricing** in peak business months of July & August.Give **additional discounts** in lean business season of Dec & Jan\n",
        "4. **Overbook hotels** by deploying a suitable model to buffer against cancellations\n",
        "\n",
        "Our **pricing strategy is competitive** , as ADR has no effect on cancellations\n",
        "\n",
        "6. Occupancy & ADR of Week and weekday is same\n",
        "\n",
        "\n",
        "\n",
        "\n",
        "\n",
        "---\n",
        "\n",
        "\n",
        "\n",
        "---\n",
        "\n",
        "\n",
        "**Untapped business opportunities**--\n",
        "\n",
        "1. Incorporate Corporate & Aviation companies as customers, as their share in the mkt segment is less than 5% .Steps like -\n",
        "  1. entering into half yearly contracts\n",
        "  2. Corporate group trip stays\n",
        "  3. employee family holiday packages etc\n",
        "\n",
        "TAs share has already reached saturation levels.\n",
        "\n",
        "2. **Increase customer retention** as repeated guests were as low as 4%.Measures like loyalty cards , cashbacks ,discounted next visits etc can be taken\n",
        "\n",
        "3. **Tap overseas market** -- Maximum guests arrive from PRT.International market remains untapped.Leverage digital marketing , list our hotel on the local hotel booking apps of thhe respective overseas country\n",
        "\n",
        "\n",
        "\n",
        "---\n",
        "\n",
        "\n",
        "\n",
        "---\n",
        "\n",
        "\n",
        "**Existing Pitfalls**\n",
        "\n",
        "1.  **End Non refundable advance bookings**-- Non refundable deposits have 95% cancellation rate.It has not been able to stop cancellations  .Since non refundable bookings are also less in number ,it implies people hesitate to pay advance payments.\n",
        "\n"
      ]
    },
    {
      "cell_type": "markdown",
      "metadata": {
        "id": "gCX9965dhzqZ"
      },
      "source": [
        "# **Conclusion**"
      ]
    },
    {
      "cell_type": "markdown",
      "metadata": {
        "id": "Fjb1IsQkh3yE"
      },
      "source": [
        "After thorough analysis ,feasible recommendations are given keeping in mind the business objective.If these recommendations are followed , there are high chances of business growth."
      ]
    },
    {
      "cell_type": "markdown",
      "metadata": {
        "id": "gIfDvo9L0UH2"
      },
      "source": [
        "### ***Hurrah! You have successfully completed your EDA Capstone Project !!!***"
      ]
    }
  ],
  "metadata": {
    "colab": {
      "collapsed_sections": [
        "vncDsAP0Gaoa",
        "FJNUwmbgGyua",
        "w6K7xa23Elo4",
        "yQaldy8SH6Dl",
        "PH-0ReGfmX4f",
        "mDgbUHAGgjLW",
        "O_i_v8NEhb9l",
        "HhfV-JJviCcP",
        "Y3lxredqlCYt",
        "3RnN4peoiCZX",
        "x71ZqKXriCWQ",
        "7hBIi_osiCS2",
        "JlHwYmJAmNHm",
        "35m5QtbWiB9F",
        "PoPl-ycgm1ru",
        "H0kj-8xxnORC",
        "nA9Y7ga8ng1Z",
        "PBTbrJXOngz2",
        "u3PMJOP6ngxN",
        "dauF4eBmngu3",
        "bKJF3rekwFvQ",
        "MSa1f5Uengrz",
        "GF8Ens_Soomf",
        "0wOQAZs5pc--",
        "K5QZ13OEpz2H",
        "lQ7QKXXCp7Bj",
        "448CDAPjqfQr",
        "KSlN3yHqYklG",
        "t6dVpIINYklI",
        "ijmpgYnKYklI",
        "-JiQyfWJYklI",
        "EM7whBJCYoAo",
        "fge-S5ZAYoAp",
        "85gYPyotYoAp",
        "RoGjAbkUYoAp",
        "4Of9eVA-YrdM",
        "iky9q4vBYrdO",
        "F6T5p64dYrdO",
        "y-Ehk30pYrdP",
        "bamQiAODYuh1",
        "QHF8YVU7Yuh3",
        "GwzvFGzlYuh3",
        "qYpmQ266Yuh3",
        "OH-pJp9IphqM",
        "bbFf2-_FphqN",
        "_ouA3fa0phqN",
        "Seke61FWphqN",
        "PIIx-8_IphqN",
        "t27r6nlMphqO",
        "r2jJGEOYphqO",
        "b0JNsNcRphqO",
        "BZR9WyysphqO",
        "jj7wYXLtphqO",
        "eZrbJ2SmphqO",
        "rFu4xreNphqO",
        "YJ55k-q6phqO",
        "gCFgpxoyphqP",
        "OVtJsKN_phqQ",
        "lssrdh5qphqQ",
        "U2RJ9gkRphqQ",
        "1M8mcRywphqQ",
        "tgIPom80phqQ",
        "JMzcOPDDphqR",
        "x-EpHcCOp1ci",
        "X_VqEhTip1ck",
        "8zGJKyg5p1ck",
        "PVzmfK_Ep1ck",
        "n3dbpmDWp1ck",
        "ylSl6qgtp1ck",
        "ZWILFDl5p1ck",
        "M7G43BXep1ck",
        "Ag9LCva-p1cl",
        "E6MkPsBcp1cl",
        "2cELzS2fp1cl",
        "3MPXvC8up1cl",
        "NC_X3p0fY2L0",
        "UV0SzAkaZNRQ",
        "YPEH6qLeZNRQ",
        "q29F0dvdveiT",
        "EXh0U9oCveiU",
        "22aHeOlLveiV",
        "JcMwzZxoAimU",
        "8G2x9gOozGDZ",
        "gCX9965dhzqZ",
        "gIfDvo9L0UH2"
      ],
      "private_outputs": true,
      "provenance": []
    },
    "kernelspec": {
      "display_name": "Python 3 (ipykernel)",
      "language": "python",
      "name": "python3"
    },
    "language_info": {
      "codemirror_mode": {
        "name": "ipython",
        "version": 3
      },
      "file_extension": ".py",
      "mimetype": "text/x-python",
      "name": "python",
      "nbconvert_exporter": "python",
      "pygments_lexer": "ipython3",
      "version": "3.9.13"
    }
  },
  "nbformat": 4,
  "nbformat_minor": 0
}